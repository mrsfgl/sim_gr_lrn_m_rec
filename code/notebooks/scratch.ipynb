{
 "cells": [
  {
   "cell_type": "code",
   "execution_count": 1,
   "metadata": {},
   "outputs": [],
   "source": [
    "import project_path"
   ]
  },
  {
   "cell_type": "code",
   "execution_count": 2,
   "metadata": {},
   "outputs": [],
   "source": [
    "from src.data.make_dataset import main\n",
    "from src.models.horpca import horpca\n",
    "from src.models.simglemare import simglemare"
   ]
  },
  {
   "cell_type": "code",
   "execution_count": 3,
   "metadata": {},
   "outputs": [],
   "source": [
    "import numpy as np\n",
    "import matplotlib.pyplot as plt\n",
    "from numpy.linalg import norm"
   ]
  },
  {
   "cell_type": "code",
   "execution_count": 4,
   "metadata": {},
   "outputs": [],
   "source": [
    "Y_noisy, Y, params = main('../src/configs/data/default.yaml')"
   ]
  },
  {
   "cell_type": "code",
   "execution_count": 5,
   "metadata": {},
   "outputs": [],
   "source": [
    "sizes = params.dims\n",
    "n = len(sizes)\n",
    "\n",
    "# L, obj_val, terms, lam_val = horpca(\n",
    "#     Y_noisy\n",
    "#     )"
   ]
  },
  {
   "cell_type": "code",
   "execution_count": 13,
   "metadata": {},
   "outputs": [
    {
     "name": "stdout",
     "output_type": "stream",
     "text": [
      "Max Iter\n"
     ]
    }
   ],
   "source": [
    "params.max_iter = 100\n",
    "params.err_tol = 1e-2\n",
    "params.verbose = True\n",
    "params.lamda = [1, [1e-1 for _ in range(n)], [1e-1 for _ in range(n)], [1e-1 for _ in range(n)]]\n",
    "params.alpha = [1e-2 for _ in range(n)]\n",
    "params.beta = [[1e-2 for _ in range(n)], [2e-2 for _ in range(n)]]\n",
    "L, S, obj_val, lam_val = simglemare(Y_noisy, params)"
   ]
  },
  {
   "cell_type": "code",
   "execution_count": 11,
   "metadata": {},
   "outputs": [
    {
     "data": {
      "text/plain": [
       "[<matplotlib.lines.Line2D at 0x1fb7b2b7dc0>]"
      ]
     },
     "execution_count": 11,
     "metadata": {},
     "output_type": "execute_result"
    },
    {
     "data": {
      "image/png": "[encoded data removed]",
      "text/plain": [
       "<Figure size 432x288 with 1 Axes>"
      ]
     },
     "metadata": {
      "needs_background": "light"
     },
     "output_type": "display_data"
    }
   ],
   "source": [
    "plt.semilogy(lam_val)"
   ]
  },
  {
   "cell_type": "code",
   "execution_count": 11,
   "metadata": {},
   "outputs": [
    {
     "name": "stdout",
     "output_type": "stream",
     "text": [
      "Normalized error of the output: 2.20\n",
      "Normalized error of the output: 0.52\n"
     ]
    }
   ],
   "source": [
    "print('Normalized error of the output: {:.2f}'.format(norm(Y-Y_noisy)/norm(Y)))\n",
    "print('Normalized error of the output: {:.2f}'.format(norm(Y-L)/norm(Y)))"
   ]
  },
  {
   "cell_type": "code",
   "execution_count": 8,
   "metadata": {},
   "outputs": [],
   "source": [
    "def init_P(sizes):\n",
    "    '''Initialize P matrices given size.'''\n",
    "    P = [np.zeros((s, int(s*(s+1)/2))) for s in sizes]\n",
    "    for i, s in enumerate(sizes):\n",
    "        P[i][0, 1:s] = 1\n",
    "        for j in range(1, s):\n",
    "            P[i][j, 1:j+1] = 1\n",
    "            P[i][j, int(j*s-j*(j-1)/2+1):int((j+1)*(s-j/2))] = 1\n",
    "    \n",
    "    return P"
   ]
  },
  {
   "cell_type": "code",
   "execution_count": 10,
   "metadata": {},
   "outputs": [],
   "source": [
    "from src.data.generate_graphs import generate_graphs\n",
    "Phi = generate_graphs([5], 2)"
   ]
  },
  {
   "cell_type": "code",
   "execution_count": 11,
   "metadata": {},
   "outputs": [
    {
     "data": {
      "text/plain": [
       "[matrix([[ 3,  0, -1, -1, -1],\n",
       "         [ 0,  2,  0, -1, -1],\n",
       "         [-1,  0,  2,  0, -1],\n",
       "         [-1, -1,  0,  2,  0],\n",
       "         [-1, -1, -1,  0,  3]], dtype=int32)]"
      ]
     },
     "execution_count": 11,
     "metadata": {},
     "output_type": "execute_result"
    }
   ],
   "source": [
    "Phi"
   ]
  },
  {
   "cell_type": "code",
   "execution_count": 22,
   "metadata": {},
   "outputs": [
    {
     "name": "stderr",
     "output_type": "stream",
     "text": [
      "C:\\Users\\emres\\AppData\\Local\\Temp/ipykernel_17308/2925809057.py:3: FutureWarning: Using a non-tuple sequence for multidimensional indexing is deprecated; use `arr[tuple(seq)]` instead of `arr[seq]`. In the future this will be interpreted as an array index, `arr[np.array(seq)]`, which will result either in an error or a different result.\n",
      "  P[[np.arange(5),np.arange(5)]] = 0\n"
     ]
    },
    {
     "data": {
      "text/plain": [
       "matrix([[ 0],\n",
       "        [ 0],\n",
       "        [-1],\n",
       "        [-1],\n",
       "        [-1],\n",
       "        [ 0],\n",
       "        [ 0],\n",
       "        [-1],\n",
       "        [-1],\n",
       "        [ 0],\n",
       "        [ 0],\n",
       "        [-1],\n",
       "        [ 0],\n",
       "        [ 0],\n",
       "        [ 0]], dtype=int32)"
      ]
     },
     "execution_count": 22,
     "metadata": {},
     "output_type": "execute_result"
    }
   ],
   "source": [
    "ind = np.triu_indices(5)\n",
    "P = Phi[0]\n",
    "P[[np.arange(5),np.arange(5)]] = 0\n",
    "p = P[ind].T\n",
    "p"
   ]
  },
  {
   "cell_type": "code",
   "execution_count": 24,
   "metadata": {},
   "outputs": [
    {
     "data": {
      "text/plain": [
       "matrix([[-3.],\n",
       "        [-2.],\n",
       "        [-2.],\n",
       "        [-2.],\n",
       "        [-3.]])"
      ]
     },
     "execution_count": 24,
     "metadata": {},
     "output_type": "execute_result"
    }
   ],
   "source": [
    "P = init_P([5])\n",
    "P[0]@p"
   ]
  },
  {
   "cell_type": "code",
   "execution_count": null,
   "metadata": {},
   "outputs": [],
   "source": []
  }
 ],
 "metadata": {
  "interpreter": {
   "hash": "a31061215d61cc9664fbbf891d1f871c44572af5775a986a0146f7ff7de68731"
  },
  "kernelspec": {
   "display_name": "Python 3.9.7 ('base')",
   "language": "python",
   "name": "python3"
  },
  "language_info": {
   "codemirror_mode": {
    "name": "ipython",
    "version": 3
   },
   "file_extension": ".py",
   "mimetype": "text/x-python",
   "name": "python",
   "nbconvert_exporter": "python",
   "pygments_lexer": "ipython3",
   "version": "3.9.7"
  },
  "orig_nbformat": 4
 },
 "nbformat": 4,
 "nbformat_minor": 2
}
